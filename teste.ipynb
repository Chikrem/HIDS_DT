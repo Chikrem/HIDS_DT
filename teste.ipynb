{
 "cells": [
  {
   "cell_type": "code",
   "execution_count": 1,
   "id": "eb46c1da",
   "metadata": {},
   "outputs": [],
   "source": [
    "from sklearn import preprocessing\n",
    "from scipy.io.arff import loadarff\n",
    "from sklearn.tree import DecisionTreeClassifier\n",
    "import numpy as np"
   ]
  },
  {
   "cell_type": "code",
   "execution_count": 4,
   "id": "ab698bb7",
   "metadata": {},
   "outputs": [
    {
     "ename": "ValueError",
     "evalue": "icmp value not in ('tcp', 'udp', \" 'icmp'\")",
     "output_type": "error",
     "traceback": [
      "\u001b[1;31m---------------------------------------------------------------------------\u001b[0m",
      "\u001b[1;31mValueError\u001b[0m                                Traceback (most recent call last)",
      "Cell \u001b[1;32mIn[4], line 1\u001b[0m\n\u001b[1;32m----> 1\u001b[0m KDDTrain, train_metadata \u001b[38;5;241m=\u001b[39m \u001b[43mloadarff\u001b[49m\u001b[43m(\u001b[49m\u001b[38;5;124;43m\"\u001b[39;49m\u001b[38;5;124;43mKDDTrain+.arff\u001b[39;49m\u001b[38;5;124;43m\"\u001b[39;49m\u001b[43m)\u001b[49m\n\u001b[0;32m      2\u001b[0m KDDTest, test_metadata \u001b[38;5;241m=\u001b[39m loadarff(\u001b[38;5;124m\"\u001b[39m\u001b[38;5;124mKDDTest+.arff\u001b[39m\u001b[38;5;124m\"\u001b[39m)\n",
      "File \u001b[1;32m~\\AppData\\Local\\Programs\\Python\\Python311\\Lib\\site-packages\\scipy\\io\\arff\\_arffread.py:802\u001b[0m, in \u001b[0;36mloadarff\u001b[1;34m(f)\u001b[0m\n\u001b[0;32m    800\u001b[0m     ofile \u001b[38;5;241m=\u001b[39m \u001b[38;5;28mopen\u001b[39m(f, \u001b[38;5;124m'\u001b[39m\u001b[38;5;124mrt\u001b[39m\u001b[38;5;124m'\u001b[39m)\n\u001b[0;32m    801\u001b[0m \u001b[38;5;28;01mtry\u001b[39;00m:\n\u001b[1;32m--> 802\u001b[0m     \u001b[38;5;28;01mreturn\u001b[39;00m \u001b[43m_loadarff\u001b[49m\u001b[43m(\u001b[49m\u001b[43mofile\u001b[49m\u001b[43m)\u001b[49m\n\u001b[0;32m    803\u001b[0m \u001b[38;5;28;01mfinally\u001b[39;00m:\n\u001b[0;32m    804\u001b[0m     \u001b[38;5;28;01mif\u001b[39;00m ofile \u001b[38;5;129;01mis\u001b[39;00m \u001b[38;5;129;01mnot\u001b[39;00m f:  \u001b[38;5;66;03m# only close what we opened\u001b[39;00m\n",
      "File \u001b[1;32m~\\AppData\\Local\\Programs\\Python\\Python311\\Lib\\site-packages\\scipy\\io\\arff\\_arffread.py:867\u001b[0m, in \u001b[0;36m_loadarff\u001b[1;34m(ofile)\u001b[0m\n\u001b[0;32m    863\u001b[0m         row, dialect \u001b[38;5;241m=\u001b[39m split_data_line(raw, dialect)\n\u001b[0;32m    865\u001b[0m         \u001b[38;5;28;01myield\u001b[39;00m \u001b[38;5;28mtuple\u001b[39m([attr[i]\u001b[38;5;241m.\u001b[39mparse_data(row[i]) \u001b[38;5;28;01mfor\u001b[39;00m i \u001b[38;5;129;01min\u001b[39;00m elems])\n\u001b[1;32m--> 867\u001b[0m a \u001b[38;5;241m=\u001b[39m \u001b[38;5;28mlist\u001b[39m(generator(ofile))\n\u001b[0;32m    868\u001b[0m \u001b[38;5;66;03m# No error should happen here: it is a bug otherwise\u001b[39;00m\n\u001b[0;32m    869\u001b[0m data \u001b[38;5;241m=\u001b[39m np\u001b[38;5;241m.\u001b[39marray(a, [(a\u001b[38;5;241m.\u001b[39mname, a\u001b[38;5;241m.\u001b[39mdtype) \u001b[38;5;28;01mfor\u001b[39;00m a \u001b[38;5;129;01min\u001b[39;00m attr])\n",
      "File \u001b[1;32m~\\AppData\\Local\\Programs\\Python\\Python311\\Lib\\site-packages\\scipy\\io\\arff\\_arffread.py:865\u001b[0m, in \u001b[0;36m_loadarff.<locals>.generator\u001b[1;34m(row_iter, delim)\u001b[0m\n\u001b[0;32m    861\u001b[0m     \u001b[38;5;28;01mcontinue\u001b[39;00m\n\u001b[0;32m    863\u001b[0m row, dialect \u001b[38;5;241m=\u001b[39m split_data_line(raw, dialect)\n\u001b[1;32m--> 865\u001b[0m \u001b[38;5;28;01myield\u001b[39;00m \u001b[38;5;28mtuple\u001b[39m(\u001b[43m[\u001b[49m\u001b[43mattr\u001b[49m\u001b[43m[\u001b[49m\u001b[43mi\u001b[49m\u001b[43m]\u001b[49m\u001b[38;5;241;43m.\u001b[39;49m\u001b[43mparse_data\u001b[49m\u001b[43m(\u001b[49m\u001b[43mrow\u001b[49m\u001b[43m[\u001b[49m\u001b[43mi\u001b[49m\u001b[43m]\u001b[49m\u001b[43m)\u001b[49m\u001b[43m \u001b[49m\u001b[38;5;28;43;01mfor\u001b[39;49;00m\u001b[43m \u001b[49m\u001b[43mi\u001b[49m\u001b[43m \u001b[49m\u001b[38;5;129;43;01min\u001b[39;49;00m\u001b[43m \u001b[49m\u001b[43melems\u001b[49m\u001b[43m]\u001b[49m)\n",
      "File \u001b[1;32m~\\AppData\\Local\\Programs\\Python\\Python311\\Lib\\site-packages\\scipy\\io\\arff\\_arffread.py:865\u001b[0m, in \u001b[0;36m<listcomp>\u001b[1;34m(.0)\u001b[0m\n\u001b[0;32m    861\u001b[0m     \u001b[38;5;28;01mcontinue\u001b[39;00m\n\u001b[0;32m    863\u001b[0m row, dialect \u001b[38;5;241m=\u001b[39m split_data_line(raw, dialect)\n\u001b[1;32m--> 865\u001b[0m \u001b[38;5;28;01myield\u001b[39;00m \u001b[38;5;28mtuple\u001b[39m([\u001b[43mattr\u001b[49m\u001b[43m[\u001b[49m\u001b[43mi\u001b[49m\u001b[43m]\u001b[49m\u001b[38;5;241;43m.\u001b[39;49m\u001b[43mparse_data\u001b[49m\u001b[43m(\u001b[49m\u001b[43mrow\u001b[49m\u001b[43m[\u001b[49m\u001b[43mi\u001b[49m\u001b[43m]\u001b[49m\u001b[43m)\u001b[49m \u001b[38;5;28;01mfor\u001b[39;00m i \u001b[38;5;129;01min\u001b[39;00m elems])\n",
      "File \u001b[1;32m~\\AppData\\Local\\Programs\\Python\\Python311\\Lib\\site-packages\\scipy\\io\\arff\\_arffread.py:158\u001b[0m, in \u001b[0;36mNominalAttribute.parse_data\u001b[1;34m(self, data_str)\u001b[0m\n\u001b[0;32m    156\u001b[0m     \u001b[38;5;28;01mreturn\u001b[39;00m data_str\n\u001b[0;32m    157\u001b[0m \u001b[38;5;28;01melse\u001b[39;00m:\n\u001b[1;32m--> 158\u001b[0m     \u001b[38;5;28;01mraise\u001b[39;00m \u001b[38;5;167;01mValueError\u001b[39;00m(\u001b[38;5;124m\"\u001b[39m\u001b[38;5;132;01m%s\u001b[39;00m\u001b[38;5;124m value not in \u001b[39m\u001b[38;5;132;01m%s\u001b[39;00m\u001b[38;5;124m\"\u001b[39m \u001b[38;5;241m%\u001b[39m (\u001b[38;5;28mstr\u001b[39m(data_str),\n\u001b[0;32m    159\u001b[0m                                              \u001b[38;5;28mstr\u001b[39m(\u001b[38;5;28mself\u001b[39m\u001b[38;5;241m.\u001b[39mvalues)))\n",
      "\u001b[1;31mValueError\u001b[0m: icmp value not in ('tcp', 'udp', \" 'icmp'\")"
     ]
    }
   ],
   "source": [
    "KDDTrain, train_metadata = loadarff(\"KDDTrain+.arff\")\n",
    "KDDTest, test_metadata = loadarff(\"KDDTest+.arff\")"
   ]
  },
  {
   "cell_type": "code",
   "execution_count": null,
   "id": "a16b5257",
   "metadata": {},
   "outputs": [],
   "source": []
  }
 ],
 "metadata": {
  "kernelspec": {
   "display_name": "Python 3 (ipykernel)",
   "language": "python",
   "name": "python3"
  },
  "language_info": {
   "codemirror_mode": {
    "name": "ipython",
    "version": 3
   },
   "file_extension": ".py",
   "mimetype": "text/x-python",
   "name": "python",
   "nbconvert_exporter": "python",
   "pygments_lexer": "ipython3",
   "version": "3.11.4"
  }
 },
 "nbformat": 4,
 "nbformat_minor": 5
}
